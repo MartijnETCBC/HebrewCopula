{
 "cells": [
  {
   "cell_type": "markdown",
   "metadata": {},
   "source": [
    "First TF is loaded."
   ]
  },
  {
   "cell_type": "code",
   "execution_count": null,
   "metadata": {
    "collapsed": false
   },
   "outputs": [],
   "source": [
    "import sys, os, csv, collections"
   ]
  },
  {
   "cell_type": "code",
   "execution_count": null,
   "metadata": {
    "collapsed": false
   },
   "outputs": [],
   "source": [
    "from tf.fabric import Fabric\n",
    "\n",
    "DATABASE = '~/github'\n",
    "BHSA = 'bhsa/tf/c'\n",
    "\n",
    "TF = Fabric(locations=[DATABASE], modules=[BHSA], silent=False )"
   ]
  },
  {
   "cell_type": "code",
   "execution_count": null,
   "metadata": {
    "collapsed": false
   },
   "outputs": [],
   "source": [
    "api = TF.load('''\n",
    "    otype mother lex typ code function rela det txt prs kind vs vt sp book chapter verse label language\n",
    "''')"
   ]
  },
  {
   "cell_type": "code",
   "execution_count": null,
   "metadata": {
    "collapsed": false
   },
   "outputs": [],
   "source": [
    "api.loadLog()\n",
    "api.makeAvailableIn(globals())"
   ]
  },
  {
   "cell_type": "markdown",
   "metadata": {},
   "source": [
    "A dictionary is made in which for each book its genre is specified."
   ]
  },
  {
   "cell_type": "code",
   "execution_count": null,
   "metadata": {
    "collapsed": false
   },
   "outputs": [],
   "source": [
    "prose = ['Genesis', 'Exodus', 'Leviticus', 'Numbers', 'Deuteronomy', 'Joshua', 'Judges', '1_Samuel', '2_Samuel', '1_Kings', '2_Kings', 'Jonah', 'Ruth', 'Esther', 'Daniel', 'Ezra', 'Nehemiah', '1_Chronicles', '2_Chronicles']\n",
    "prophecy = ['Isaiah', 'Jeremiah', 'Ezekiel', 'Hosea', 'Joel', 'Obadiah', 'Micah', 'Zephaniah', 'Haggai', 'Zechariah', 'Malachi', 'Amos', 'Nahum', 'Habakkuk']\n",
    "poetry = ['Song_of_songs','Proverbs','Ecclesiastes', 'Lamentations', 'Psalms', 'Job']\n",
    "genre_dict = {}\n",
    "\n",
    "for genre in [prose, prophecy, poetry]:\n",
    "    for book in genre:\n",
    "        if book in prose:\n",
    "            genre_dict[book] = 'prose'\n",
    "        elif book in prophecy:\n",
    "            genre_dict[book] = 'prophecy'\n",
    "        elif book in poetry:\n",
    "            genre_dict[book] = 'poetry'"
   ]
  },
  {
   "cell_type": "markdown",
   "metadata": {},
   "source": [
    "A dictionary is made in which EBH and LBH (and 'other') is specified for each book."
   ]
  },
  {
   "cell_type": "code",
   "execution_count": null,
   "metadata": {
    "collapsed": false
   },
   "outputs": [],
   "source": [
    "ebh_lbh_dict = {}\n",
    "\n",
    "ebh = ['Genesis', 'Exodus', 'Leviticus', 'Numbers', 'Deuteronomy', 'Joshua', 'Judges', '1_Samuel', '2_Samuel', '1_Kings', '2_Kings']\n",
    "lbh = ['Esther', 'Daniel', 'Ezra', 'Nehemiah', '1_Chronicles', '2_Chronicles']\n",
    "for book in ebh:\n",
    "    ebh_lbh_dict[book] = 'ebh'\n",
    "for book in lbh:\n",
    "    ebh_lbh_dict[book] = 'lbh'\n",
    "\n",
    "double_books = {'1_Samuel': 'Samuel', '2_Samuel' : 'Samuel', '2_Kings' : 'Kings', '1_Kings': 'Kings', '1_Chronicles' : 'Chronicles', '2_Chronicles' : 'Chronicles'}"
   ]
  },
  {
   "cell_type": "markdown",
   "metadata": {},
   "source": [
    "The subgenres file is imported and relevant information is stored in a dict."
   ]
  },
  {
   "cell_type": "code",
   "execution_count": null,
   "metadata": {
    "collapsed": false
   },
   "outputs": [],
   "source": [
    "subgenres_dict = {}\n",
    "\n",
    "with open(r'C:/Users/Martijn/Documents/SynVar/Proefschrift/Subgenres.csv', 'rt') as f:    \n",
    "    reader = csv.reader(f)\n",
    "    n = 0\n",
    "    for row in reader:\n",
    "        n += 1\n",
    "        if n > 1:\n",
    "            for vers in range(int(row[2]), int(row[3]) + 1):\n",
    "                verse = (row[0], int(row[1]), vers)\n",
    "                subgenres_dict[verse] = row[4]"
   ]
  },
  {
   "cell_type": "markdown",
   "metadata": {},
   "source": [
    "In a few helper functions is is calculated whether a clause is a main clause, a subordinate clause (3 different varieties) or undecided."
   ]
  },
  {
   "cell_type": "code",
   "execution_count": null,
   "metadata": {
    "collapsed": true
   },
   "outputs": [],
   "source": [
    "# %load main_sub\n",
    "def in_dep_calc(cl):  \n",
    "      \n",
    "    in_dep = ''        \n",
    "    if F.rela.v(cl) == 'ReSu': # is the clause resumptive?\n",
    "        moth_obj = E.mother.f(cl)[0]\n",
    "        in_dep = rela_calc(moth_obj)\n",
    "    else:\n",
    "        in_dep = rela_calc(cl) # does the clause have a dependent CCR?\n",
    "\n",
    "    if in_dep == '':\n",
    "    \twords = L.d(cl, 'word') # is there a wayyiqtol?\n",
    "    \tfor word in words:\n",
    "            if F.vt.v(word) == 'wayq':\n",
    "                in_dep += 'Main'\n",
    "                        \n",
    "    if in_dep == '':  # if everything else does not give a result, we look at the CARC\n",
    "        cl_atoms = L.d(cl, 'clause_atom')\n",
    "        in_dep = carc_calc(cl_atoms)\n",
    "        \n",
    "    return(in_dep)\n",
    "\n",
    "\n",
    "#####################################\n",
    "\n",
    "\n",
    "def carc_calc(cl_atoms):\n",
    "    in_dep_c = ''\n",
    "    carc = F.code.v(cl_atoms[0])\n",
    "    if 999 > int(carc) > 499:\n",
    "        in_dep_c += 'SubAdv'\n",
    "    elif int(carc) in {0, 999}:\n",
    "        in_dep_c = 'Main'\n",
    "    elif 17 > int(carc) > 9:\n",
    "        in_dep_c += 'SubAdv'\n",
    "    elif 75 > int(carc) > 50:\n",
    "        in_dep_c += 'SubAdv'\n",
    "    elif 168 > int(carc) > 99:\n",
    "        in_dep_c += 'Main'\n",
    "    elif 500 > int(carc) > 299:\n",
    "        in_dep_c += 'Main'\n",
    "    else:\n",
    "        in_dep_c += 'Undc'\n",
    "        \n",
    "    return(in_dep_c)\n",
    "\n",
    "###################################################################################################\n",
    "\n",
    "def rela_calc(cl):\n",
    "    in_dep_r = ''\n",
    "    ccr = F.rela.v(cl)\n",
    "    if ccr in {'Subj', 'Objc', 'Cmpl', 'PreC', 'Voct', 'Frnt'}:\n",
    "        in_dep_r += 'SubArg'\n",
    "    elif ccr in {'Attr', 'RgRc', 'Spec'}:\n",
    "        in_dep_r += 'SubMod'\n",
    "    elif ccr in {'Adju', 'PrAd'}:\n",
    "        in_dep_r += 'SubAdv'\n",
    "    elif ccr == 'Coor':\n",
    "        moth_obj = E.mother.f(cl)[0]\n",
    "        if F.otype.v(moth_obj) in {'word', 'phrase'}:\n",
    "            in_dep_r += 'SubMod'\n",
    "        else:\n",
    "            while F.rela.v(moth_obj) == 'Coor':\n",
    "                moth_obj = E.mother.f(moth_obj)[0]\n",
    "            ccr = F.rela.v(cl)\n",
    "            if ccr in {'Subj', 'Objc', 'Cmpl', 'PreC', 'Voct', 'Frnt'}:\n",
    "                in_dep_r += 'SubArg'\n",
    "            elif ccr in {'Attr', 'RgRc', 'Spec'}:\n",
    "                in_dep_r += 'SubMod'\n",
    "            elif ccr in {'Adju', 'PrAd'}:\n",
    "                in_dep_r += 'SubAdv'\n",
    "                \n",
    "        if in_dep_r == '':\n",
    "            if F.otype.v(moth_obj) != 'clause':\n",
    "                in_dep_r += 'SubMod'\n",
    "            else:\n",
    "                cl_atoms = L.d(moth_obj, 'clause_atom')\n",
    "                in_dep_r = carc_calc(cl_atoms)\n",
    "                \n",
    "    return(in_dep_r)\n",
    "\n",
    "############################################################################################\n"
   ]
  },
  {
   "cell_type": "markdown",
   "metadata": {},
   "source": [
    "The function mother_clause_calc determines the tnse of the mother of that clause(atom)."
   ]
  },
  {
   "cell_type": "code",
   "execution_count": null,
   "metadata": {
    "collapsed": true
   },
   "outputs": [],
   "source": [
    "def mother_tense_calc(cl):\n",
    "    \n",
    "    mother_tense = ''\n",
    "    cl_atoms = L.d(cl, 'clause_atom')\n",
    "    moth = E.mother.f(cl_atoms[0])\n",
    "    if len(moth) == 0:\n",
    "        mother_tense += 'no_mother'\n",
    "    else: \n",
    "        if F.otype.v(moth[0]) in {'word', 'phrase'}:\n",
    "            mother_tense += F.otype.v(moth[0])\n",
    "        else:\n",
    "            cl = L.u(moth[0], 'clause')[0]\n",
    "            if F.kind.v(cl) == 'NC':\n",
    "                mother_tense += 'nominal'\n",
    "            elif F.kind.v(cl) == 'WP':\n",
    "                mother_tense += 'no_pred'\n",
    "                        \n",
    "            else:\n",
    "                phrases = L.d(cl, 'phrase')\n",
    "                pred = False\n",
    "                prec = False\n",
    "                for phr in phrases:\n",
    "                    if F.function.v(phr) in {'Pred', 'PreS', 'PreO'}:\n",
    "                        pred = True\n",
    "                        pred_phr = phr\n",
    "                    elif F.function.v(phr) in {'PreC', 'PtcO'}:\n",
    "                        prec = True\n",
    "                        prec_phr = phr\n",
    "                if pred == True:\n",
    "                    words = L.d(pred_phr, 'word')\n",
    "                    for word in words:\n",
    "                        if F.sp.v(word) == 'verb':\n",
    "                            mother_tense += F.vt.v(word)\n",
    "                elif prec == True:\n",
    "                    words = L.d(prec_phr, 'word')\n",
    "                    for word in words:\n",
    "                        if F.sp.v(word) == 'verb':\n",
    "                            mother_tense += F.vt.v(word)\n",
    "                            \n",
    "    return(mother_tense)"
   ]
  },
  {
   "cell_type": "markdown",
   "metadata": {},
   "source": [
    "A list with all the different phrase functions is created. This is used in the main program."
   ]
  },
  {
   "cell_type": "code",
   "execution_count": null,
   "metadata": {
    "collapsed": false
   },
   "outputs": [],
   "source": [
    "extra_cl_funcs = set()\n",
    "\n",
    "for phrase in F.otype.s('phrase'):\n",
    "    phr_func = F.function.v(phrase)\n",
    "    if not phr_func in {'Subj', 'Pred', 'PreC'}:\n",
    "        extra_cl_funcs.add(phr_func)\n",
    "                    \n",
    "extra_cl_funcs = sorted(list(extra_cl_funcs))                \n",
    "extra_cl_funcs.append('Unkn')"
   ]
  },
  {
   "cell_type": "code",
   "execution_count": null,
   "metadata": {
    "collapsed": false
   },
   "outputs": [],
   "source": [
    "print(extra_cl_funcs)"
   ]
  },
  {
   "cell_type": "markdown",
   "metadata": {},
   "source": [
    "This is the main program. Of each clause it it determined whether it is a copula clause and its information is stored in the dict cop_clauses."
   ]
  },
  {
   "cell_type": "code",
   "execution_count": null,
   "metadata": {
    "collapsed": false
   },
   "outputs": [],
   "source": [
    "cop_cl_list = []\n",
    "cop_clauses = {}\n",
    "\n",
    "for cl in F.otype.s('clause'):\n",
    "    feat_list = []\n",
    "    cl_kind = F.kind.v(cl)\n",
    "    if cl_kind in {'NC', 'VC'}: \n",
    "        phrases = L.d(cl, 'phrase')\n",
    "        phr_funcs = [F.function.v(phr) for phr in phrases]\n",
    "        \n",
    "        if 'Subj' in phr_funcs and 'PreC' in phr_funcs:\n",
    "            cl_type = ''\n",
    "            if cl_kind == 'VC' and 'Pred' in phr_funcs:\n",
    "                cl_type += 'hyh'\n",
    "            elif cl_kind == 'NC':\n",
    "                cl_type += 'nom'\n",
    "                \n",
    "            if cl_type in {'hyh', 'nom'}:\n",
    "                \n",
    "                # collect basic info about clause\n",
    "                feat_list.append(cl_type) # type of clause: hyh or nom\n",
    "                feat_list.append(str(cl)) # clause id\n",
    "                bo, ch, ve = T.sectionFromNode(cl)\n",
    "                feat_list.append(bo) # book\n",
    "                feat_list.append(str(ch)) # chapter\n",
    "                feat_list.append(str(ve)) # verse\n",
    "                feat_list.append(F.typ.v(cl)) # clause type of database\n",
    "                feat_list.append(F.rela.v(cl) + '_') # clause relation\n",
    "                \n",
    "                # eg if book is '1_Samuel', add 'Samuel' to feat_list\n",
    "                if bo in double_books: \n",
    "                    feat_list.append(double_books[bo])\n",
    "                else:\n",
    "                    feat_list.append(bo)\n",
    "                \n",
    "                # ebh_lbh\n",
    "                if bo in ebh_lbh_dict.keys():\n",
    "                    feat_list.append(ebh_lbh_dict[bo])\n",
    "                else:\n",
    "                    feat_list.append('other')\n",
    "                feat_list.append(genre_dict[bo]) #genre\n",
    "                feat_list.append(F.txt.v(cl)[-1]) # Q, D, N\n",
    "            \n",
    "                if phr_funcs.index('Subj') < phr_funcs.index('PreC'): #subj and prec order\n",
    "                    feat_list.append('SP')\n",
    "                else:\n",
    "                    feat_list.append('PS')\n",
    "                    \n",
    "                # which conjunction\n",
    "                phr_types = [F.typ.v(phr) for phr in phrases]\n",
    "                if 'CP' in phr_types: \n",
    "                    conj = phrases[phr_types.index('CP')]\n",
    "                    words = L.d(conj, 'word')\n",
    "                    words_lex = '_'.join([F.lex.v(wo) for wo in words])\n",
    "                    feat_list.append(words_lex)\n",
    "                else:\n",
    "                    feat_list.append('no_conj')\n",
    "                \n",
    "                # clause length, in verbal clauses the Pred is not counted\n",
    "                if cl_kind == 'VC':\n",
    "                    feat_list.append(str(len(phrases) - 1)) \n",
    "                else:\n",
    "                    feat_list.append(str(len(phrases)))\n",
    "                \n",
    "                subj_pos = phr_funcs.index('Subj')\n",
    "                feat_list.append(F.typ.v(phrases[subj_pos])) #phrase type of subject\n",
    "                feat_list.append(F.det.v(phrases[subj_pos])) #determination of subject\n",
    "                \n",
    "                # length of subj in words\n",
    "                words_subj = L.d(phrases[subj_pos], 'word') # length of subject in words\n",
    "                subj_len = len(words_subj)\n",
    "                for wo in words_subj:                    \n",
    "                    if not F.prs.v(wo) in {'absent', 'n/a'}:\n",
    "                        subj_len += 1\n",
    "                feat_list.append(str(subj_len))\n",
    "                \n",
    "                prec_pos = phr_funcs.index('PreC')\n",
    "                feat_list.append(F.typ.v(phrases[prec_pos])) #phrase type of prec\n",
    "                feat_list.append(F.det.v(phrases[prec_pos])) #determination of prec\n",
    "                \n",
    "                # length of prec in words\n",
    "                words_prec = L.d(phrases[prec_pos], 'word')\n",
    "                prec_len = len(words_prec)\n",
    "                for wo in words_prec:                    \n",
    "                    if not F.prs.v(wo) in {'absent', 'n/a'}:\n",
    "                        prec_len += 1\n",
    "                feat_list.append(str(prec_len))\n",
    "            \n",
    "                # main or subordinate clause\n",
    "                feat_list.append(in_dep_calc(cl))\n",
    "                                     \n",
    "                # negation in clause\n",
    "                phr_types = [F.typ.v(phr) for phr in phrases]\n",
    "                if 'NegP' in phr_types:\n",
    "                    feat_list.append('neg')\n",
    "                else:\n",
    "                    feat_list.append('non_neg')\n",
    "                \n",
    "                # aramaic or hebrew\n",
    "                words = L.d(cl, 'word')\n",
    "                feat_list.append(F.language.v(words[0]))\n",
    "                \n",
    "                # subgenre (list or instruction)\n",
    "                if (bo, ch, ve) in subgenres_dict:\n",
    "                    feat_list.append(subgenres_dict[(bo, ch, ve)])\n",
    "                else:\n",
    "                    feat_list.append('_')\n",
    "                \n",
    "                # collect info about other phrases in clause (present (1) or absent (0))\n",
    "                for item in extra_cl_funcs:   \n",
    "                    if item in phr_funcs:\n",
    "                        feat_list.append('1')\n",
    "                    else:\n",
    "                        feat_list.append('0')\n",
    "                \n",
    "                # tense ot the mother of the clause_atom\n",
    "                feat_list.append(mother_tense_calc(cl))\n",
    "                \n",
    "                cop_cl_list.append(cl)\n",
    "                cop_clauses[cl] = feat_list                "
   ]
  },
  {
   "cell_type": "markdown",
   "metadata": {},
   "source": [
    "Information is saved in a csv file."
   ]
  },
  {
   "cell_type": "code",
   "execution_count": null,
   "metadata": {
    "collapsed": false
   },
   "outputs": [],
   "source": [
    "csvh = open(r\"hyh_nom_biblical.csv\", \"w\")\n",
    "header = ['cl_type', 'cl_id', 'book', 'chapter', 'verse', 'clause_type_etcbc', 'clause_rela', 'book2', 'ebh_lbh', 'genre', 'txt_type', 's_p_order', 'CP', 'cl_len', 'subj_type', 'subj_det', 'subj_len', 'pc_type', 'pc_det', 'pc_len', 'main_sub', 'nega', 'language', 'subgenre']\n",
    "for item in extra_cl_funcs:\n",
    "    header.append(item)\n",
    "header.append('mother')\n",
    "csvh.write('{}\\n'.format(','.join(header)))\n",
    "\n",
    "for key in cop_cl_list:\n",
    "    features = cop_clauses[key]\n",
    "    csvh.write('{}\\n'.format(','.join(features)))\n",
    "    \n",
    "csvh.close()"
   ]
  }
 ],
 "metadata": {
  "anaconda-cloud": {},
  "kernelspec": {
   "display_name": "Python 3",
   "language": "python",
   "name": "python3"
  },
  "language_info": {
   "codemirror_mode": {
    "name": "ipython",
    "version": 3
   },
   "file_extension": ".py",
   "mimetype": "text/x-python",
   "name": "python",
   "nbconvert_exporter": "python",
   "pygments_lexer": "ipython3",
   "version": "3.6.1"
  }
 },
 "nbformat": 4,
 "nbformat_minor": 0
}
